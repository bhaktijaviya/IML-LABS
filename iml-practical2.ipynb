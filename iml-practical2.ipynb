{
 "cells": [
  {
   "cell_type": "markdown",
   "id": "b975d615",
   "metadata": {
    "_cell_guid": "b1076dfc-b9ad-4769-8c92-a6c4dae69d19",
    "_uuid": "8f2839f25d086af736a60e9eeb907d3b93b6e0e5",
    "papermill": {
     "duration": 0.00328,
     "end_time": "2023-10-25T06:50:46.669947",
     "exception": false,
     "start_time": "2023-10-25T06:50:46.666667",
     "status": "completed"
    },
    "tags": []
   },
   "source": [
    "## Bhakti Javiya\n",
    "## 216270307098"
   ]
  },
  {
   "cell_type": "code",
   "execution_count": 1,
   "id": "95361f89",
   "metadata": {
    "execution": {
     "iopub.execute_input": "2023-10-25T06:50:46.677591Z",
     "iopub.status.busy": "2023-10-25T06:50:46.676633Z",
     "iopub.status.idle": "2023-10-25T06:50:46.691460Z",
     "shell.execute_reply": "2023-10-25T06:50:46.690291Z"
    },
    "papermill": {
     "duration": 0.021761,
     "end_time": "2023-10-25T06:50:46.694546",
     "exception": false,
     "start_time": "2023-10-25T06:50:46.672785",
     "status": "completed"
    },
    "tags": []
   },
   "outputs": [
    {
     "name": "stdout",
     "output_type": "stream",
     "text": [
      "[1 2 3 4 5]\n"
     ]
    }
   ],
   "source": [
    "'''Write a NumPy program to implement following operation\n",
    " to convert a list of numeric values into a one-dimensional NumPy\n",
    "array\n",
    "'''\n",
    "\n",
    "import numpy as np\n",
    "\n",
    "list12 = [1, 2, 3, 4, 5]\n",
    "arr = np.array(list12)\n",
    "print(arr)"
   ]
  },
  {
   "cell_type": "code",
   "execution_count": 2,
   "id": "601d0562",
   "metadata": {
    "execution": {
     "iopub.execute_input": "2023-10-25T06:50:46.701613Z",
     "iopub.status.busy": "2023-10-25T06:50:46.701241Z",
     "iopub.status.idle": "2023-10-25T06:50:46.707621Z",
     "shell.execute_reply": "2023-10-25T06:50:46.706588Z"
    },
    "papermill": {
     "duration": 0.012356,
     "end_time": "2023-10-25T06:50:46.709766",
     "exception": false,
     "start_time": "2023-10-25T06:50:46.697410",
     "status": "completed"
    },
    "tags": []
   },
   "outputs": [
    {
     "name": "stdout",
     "output_type": "stream",
     "text": [
      "[[ 1  2  3  4  5  6  7  8  9]\n",
      " [10 11 12 13 14 15 16 17 18]\n",
      " [19 20 21 22 23 24 25 26 27]]\n"
     ]
    }
   ],
   "source": [
    "''' to create a 3x3 matrix with values ranging from 2 to 10'''\n",
    "\n",
    "import numpy as np\n",
    "\n",
    "val = np.arange(1, 28)\n",
    "\n",
    "mat = val.reshape(3, 9)\n",
    "\n",
    "print(mat)"
   ]
  },
  {
   "cell_type": "code",
   "execution_count": 3,
   "id": "0569abc9",
   "metadata": {
    "execution": {
     "iopub.execute_input": "2023-10-25T06:50:46.716896Z",
     "iopub.status.busy": "2023-10-25T06:50:46.716552Z",
     "iopub.status.idle": "2023-10-25T06:50:46.723603Z",
     "shell.execute_reply": "2023-10-25T06:50:46.722479Z"
    },
    "papermill": {
     "duration": 0.0133,
     "end_time": "2023-10-25T06:50:46.725935",
     "exception": false,
     "start_time": "2023-10-25T06:50:46.712635",
     "status": "completed"
    },
    "tags": []
   },
   "outputs": [
    {
     "name": "stdout",
     "output_type": "stream",
     "text": [
      "ARRAY:  [1 2 3]\n",
      "appended list:  [4 5 6 1 2 3]\n"
     ]
    }
   ],
   "source": [
    "''' to append values at the end of an array'''\n",
    "\n",
    "import numpy as np\n",
    "\n",
    "arr = np.array([1, 2, 3])\n",
    "\n",
    "print(\"ARRAY: \",arr)\n",
    "\n",
    "arr2 = np.array([4, 5, 6])\n",
    "\n",
    "\n",
    "appended = np.append(arr2, arr)\n",
    "\n",
    "print(\"appended list: \",appended)"
   ]
  },
  {
   "cell_type": "code",
   "execution_count": 4,
   "id": "ac4d6496",
   "metadata": {
    "execution": {
     "iopub.execute_input": "2023-10-25T06:50:46.733702Z",
     "iopub.status.busy": "2023-10-25T06:50:46.733319Z",
     "iopub.status.idle": "2023-10-25T06:50:46.740146Z",
     "shell.execute_reply": "2023-10-25T06:50:46.739315Z"
    },
    "papermill": {
     "duration": 0.013921,
     "end_time": "2023-10-25T06:50:46.742883",
     "exception": false,
     "start_time": "2023-10-25T06:50:46.728962",
     "status": "completed"
    },
    "tags": []
   },
   "outputs": [
    {
     "name": "stdout",
     "output_type": "stream",
     "text": [
      "Original Array:\n",
      "[[10 20]\n",
      " [30 40]\n",
      " [50 60]]\n",
      "Reshaped Array:\n",
      "[[10 20 30]\n",
      " [40 50 60]]\n"
     ]
    }
   ],
   "source": [
    "''' to create another shape from an array without changing its data(3*2\n",
    "to 2*3) '''\n",
    "\n",
    "import numpy as np\n",
    "original = np.array([[10, 20],\n",
    "                     [30, 40],\n",
    "                     [50, 60]])\n",
    "\n",
    "\n",
    "reshaped = original.reshape(2, 3)\n",
    "\n",
    "print(\"Original Array:\")\n",
    "print(original)\n",
    "\n",
    "print(\"Reshaped Array:\")\n",
    "print(reshaped)"
   ]
  }
 ],
 "metadata": {
  "kernelspec": {
   "display_name": "Python 3",
   "language": "python",
   "name": "python3"
  },
  "language_info": {
   "codemirror_mode": {
    "name": "ipython",
    "version": 3
   },
   "file_extension": ".py",
   "mimetype": "text/x-python",
   "name": "python",
   "nbconvert_exporter": "python",
   "pygments_lexer": "ipython3",
   "version": "3.10.12"
  },
  "papermill": {
   "default_parameters": {},
   "duration": 4.00575,
   "end_time": "2023-10-25T06:50:47.066154",
   "environment_variables": {},
   "exception": null,
   "input_path": "__notebook__.ipynb",
   "output_path": "__notebook__.ipynb",
   "parameters": {},
   "start_time": "2023-10-25T06:50:43.060404",
   "version": "2.4.0"
  }
 },
 "nbformat": 4,
 "nbformat_minor": 5
}
